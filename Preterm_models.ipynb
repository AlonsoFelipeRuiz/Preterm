{
 "cells": [
  {
   "cell_type": "code",
   "execution_count": 1,
   "metadata": {
    "executionInfo": {
     "elapsed": 413,
     "status": "ok",
     "timestamp": 1659249086707,
     "user": {
      "displayName": "Alonso felipe ruiz",
      "userId": "07344339143251473245"
     },
     "user_tz": -60
    },
    "id": "U0XPLyfXxsKB"
   },
   "outputs": [],
   "source": [
    "import pandas as pd\n",
    "import seaborn as sns\n",
    "import matplotlib.pyplot as plt\n",
    "import numpy as np"
   ]
  },
  {
   "cell_type": "markdown",
   "metadata": {},
   "source": [
    "First of all I read all the files and merged them into one dataframe. I will use the alpha diversity, the relative abundance of species, the comunity state types which it is really informative, the phylotypes but just the ones with distances of 1e0 as it is the less complex (1845 columns), our data is highly multidimensional and we have not much samples, probably incresing the complexity of the samples will give us less than we obtain. We will also use the metadata and just few data about genus. I read about the preterm condition and how microbiome afect it, most important genus are Prevotella and Lactobacillus, and as we have the complete description of species in the dataframe, I just took these two from genuses, to give them more importance."
   ]
  },
  {
   "cell_type": "code",
   "execution_count": 2,
   "metadata": {
    "executionInfo": {
     "elapsed": 3,
     "status": "ok",
     "timestamp": 1659249087043,
     "user": {
      "displayName": "Alonso felipe ruiz",
      "userId": "07344339143251473245"
     },
     "user_tz": -60
    },
    "id": "yGgr5FiVyMCJ"
   },
   "outputs": [],
   "source": [
    "alpha=(\n",
    "    pd.read_csv(\"training_data_2022-07-21/alpha_diversity/alpha_diversity.csv\", \n",
    "                      index_col=\"specimen\")\n",
    ")\n",
    "species=(\n",
    "    pd.read_csv(\"training_data_2022-07-21/taxonomy/taxonomy_relabd.species.csv\", \n",
    "                      index_col=\"specimen\")\n",
    ")\n",
    "cst=(\n",
    "    pd.read_csv(\"training_data_2022-07-21/community_state_types/cst_valencia.csv\", \n",
    "                      index_col=\"specimen\")\n",
    ")\n",
    "phylo=(\n",
    "    pd.read_csv(\"training_data_2022-07-21/phylotypes/phylotype_relabd.1e0.csv\", \n",
    "                      index_col=\"specimen\")\n",
    ")\n",
    "genus=(\n",
    "    pd.read_csv(\"training_data_2022-07-21/taxonomy/taxonomy_relabd.species.csv\", \n",
    "                      index_col=\"specimen\")\n",
    ")\n",
    "#important genus for preterm birth\n",
    "genus_preterm=[\"Lactobacillus\",\"Prevotella\"]\n",
    "genus=genus[genus_preterm]\n",
    "metadata=(\n",
    "    pd.read_csv(\"training_data_2022-07-21/metadata/metadata.csv\", index_col=\"specimen\", na_values=\"Unknown\")\n",
    ")"
   ]
  },
  {
   "cell_type": "markdown",
   "metadata": {},
   "source": [
    "Now we merge the dataframes into one (complete_df)"
   ]
  },
  {
   "cell_type": "code",
   "execution_count": 3,
   "metadata": {},
   "outputs": [],
   "source": [
    "phylo_metadata=pd.merge(phylo, metadata, left_index=True, right_index=True)\n",
    "phylo_cst_metadata=pd.merge(cst, phylo_metadata, left_index=True, right_index=True)\n",
    "phylo_alpha_cst_metadata=pd.merge(alpha, phylo_cst_metadata, left_index=True, right_index=True)\n",
    "phylo_alpha_cst_species_metadata=(\n",
    "    pd.merge(species, phylo_alpha_cst_metadata, left_index=True, right_index=True)\n",
    ")\n",
    "complete_df=(\n",
    "    pd.merge(phylo_alpha_cst_species_metadata, genus, suffixes=(None, \"_genus\"), \n",
    "             left_index=True, right_index=True)\n",
    ")"
   ]
  },
  {
   "cell_type": "markdown",
   "metadata": {},
   "source": [
    "First of all we split train and test data, to prevent data leakage. As we can see, I will remove the variable \"delivery_week\" as it obviosly give direct information of the variable we are predicting. But I will also remove the variable \"collect_week\". Which it is trully informative, but in some cases the sample was taken after week 37, what supposed a data leackage as that would directly say that the sample is term."
   ]
  },
  {
   "cell_type": "code",
   "execution_count": 4,
   "metadata": {
    "colab": {
     "base_uri": "https://localhost:8080/"
    },
    "executionInfo": {
     "elapsed": 773,
     "status": "ok",
     "timestamp": 1659249092397,
     "user": {
      "displayName": "Alonso felipe ruiz",
      "userId": "07344339143251473245"
     },
     "user_tz": -60
    },
    "id": "gI-9r9sOMIKe",
    "outputId": "a8eb54ae-49af-473e-bbc3-5b60e693fe3e"
   },
   "outputs": [
    {
     "name": "stdout",
     "output_type": "stream",
     "text": [
      " dataset train has (2397, 3991)\n",
      " dataset test has (1181, 3991)\n"
     ]
    }
   ],
   "source": [
    "from sklearn.model_selection import train_test_split\n",
    "y=complete_df[[\"was_preterm\", \"was_early_preterm\"]].astype(\"int\")\n",
    "y=pd.merge(y, complete_df[\"participant_id\"], left_index=True, right_index=True)\n",
    "complete_df.drop([\"was_preterm\", \"was_term\", \"project\", \"participant_id\", \"delivery_wk\", \"was_early_preterm\", \"collect_wk\"], axis=1, inplace=True)\n",
    "\n",
    "X_train, X_test, y_train, y_test = train_test_split(complete_df, y, test_size=0.33, random_state=1)\n",
    "\n",
    "print(f' dataset train has {X_train.shape}')\n",
    "print(f' dataset test has {X_test.shape}')\n"
   ]
  },
  {
   "cell_type": "markdown",
   "metadata": {},
   "source": [
    "First we analyzed the distribution of the data, specially the variable used in prediction"
   ]
  },
  {
   "cell_type": "code",
   "execution_count": 5,
   "metadata": {
    "executionInfo": {
     "elapsed": 28,
     "status": "ok",
     "timestamp": 1659249092397,
     "user": {
      "displayName": "Alonso felipe ruiz",
      "userId": "07344339143251473245"
     },
     "user_tz": -60
    },
    "id": "vC4hvqeP1r02"
   },
   "outputs": [
    {
     "name": "stdout",
     "output_type": "stream",
     "text": [
      "% of preterm 0.2764114030184461\n",
      "% of early preterm 0.10816098378982672\n"
     ]
    },
    {
     "data": {
      "image/png": "[encoded data removed]",
      "text/plain": [
       "<Figure size 1440x864 with 2 Axes>"
      ]
     },
     "metadata": {
      "needs_background": "light"
     },
     "output_type": "display_data"
    }
   ],
   "source": [
    "fig, axs = plt.subplots(1, 2, figsize=(20, 12))\n",
    "count_preterm = plt.subplot(121)\n",
    "sns.countplot(data=metadata, x=\"was_preterm\")\n",
    "count_preterm = plt.subplot(122)\n",
    "sns.countplot(data=metadata, x=\"was_early_preterm\")\n",
    "print(f\"% of preterm {(sum(metadata['was_preterm']==True) / metadata.shape[0])}\")\n",
    "print(f\"% of early preterm {(sum(metadata['was_early_preterm']==True) / metadata.shape[0])}\")"
   ]
  },
  {
   "cell_type": "markdown",
   "metadata": {},
   "source": [
    "As we can see, both problems are highly unbalanced and we must take it into account for the training of the models."
   ]
  },
  {
   "cell_type": "markdown",
   "metadata": {},
   "source": [
    "**Engineering characteristic**\n",
    "We will use the phylo data and relative species abundance to generate two new variables \"Kmediods_cluster\" and \"Kmediods_phylo\", for such approach we will generate K-Mediods unsupervised model to generate 10 different clusters depending on the phylo and species data, such variables will be used in the generation of the preterm prediction model."
   ]
  },
  {
   "cell_type": "code",
   "execution_count": 6,
   "metadata": {
    "executionInfo": {
     "elapsed": 7,
     "status": "ok",
     "timestamp": 1659249092763,
     "user": {
      "displayName": "Alonso felipe ruiz",
      "userId": "07344339143251473245"
     },
     "user_tz": -60
    },
    "id": "Ha5qmj1ANaWU"
   },
   "outputs": [],
   "source": [
    "X_train_species=X_train[species.columns]\n",
    "X_train_phylo=X_train[phylo.columns]\n",
    "X_test_species=X_test[species.columns]\n",
    "X_test_phylo=X_test[phylo.columns]"
   ]
  },
  {
   "cell_type": "code",
   "execution_count": 7,
   "metadata": {
    "colab": {
     "base_uri": "https://localhost:8080/"
    },
    "executionInfo": {
     "elapsed": 3277,
     "status": "ok",
     "timestamp": 1659249096034,
     "user": {
      "displayName": "Alonso felipe ruiz",
      "userId": "07344339143251473245"
     },
     "user_tz": -60
    },
    "id": "VZq5sw0CST4i",
    "outputId": "a9eef1ed-b77c-4554-c3c9-11d5d7c7c861"
   },
   "outputs": [],
   "source": [
    "#!pip install scikit-learn-extra"
   ]
  },
  {
   "cell_type": "code",
   "execution_count": 8,
   "metadata": {
    "colab": {
     "base_uri": "https://localhost:8080/"
    },
    "executionInfo": {
     "elapsed": 855,
     "status": "ok",
     "timestamp": 1659249096883,
     "user": {
      "displayName": "Alonso felipe ruiz",
      "userId": "07344339143251473245"
     },
     "user_tz": -60
    },
    "id": "q76EPLuxPzMf",
    "outputId": "0b0ad373-15bf-44e5-b9b7-77166e6bba01"
   },
   "outputs": [
    {
     "data": {
      "text/plain": [
       "KMedoids(init='k-medoids++', n_clusters=10, random_state=0)"
      ]
     },
     "execution_count": 8,
     "metadata": {},
     "output_type": "execute_result"
    }
   ],
   "source": [
    "from sklearn_extra.cluster import KMedoids\n",
    "km = KMedoids(n_clusters=10, init='k-medoids++', random_state=0)\n",
    "km.fit(X_train_species)"
   ]
  },
  {
   "cell_type": "code",
   "execution_count": 9,
   "metadata": {},
   "outputs": [],
   "source": [
    "#Save Kmediods model\n",
    "import pickle\n",
    "filename = 'Models/kmediods_species.sav'\n",
    "pickle.dump(km, open(filename, 'wb'))"
   ]
  },
  {
   "cell_type": "code",
   "execution_count": 10,
   "metadata": {
    "executionInfo": {
     "elapsed": 6,
     "status": "ok",
     "timestamp": 1659249096883,
     "user": {
      "displayName": "Alonso felipe ruiz",
      "userId": "07344339143251473245"
     },
     "user_tz": -60
    },
    "id": "PBNTA6veS_7o"
   },
   "outputs": [
    {
     "name": "stderr",
     "output_type": "stream",
     "text": [
      "<ipython-input-10-368e5c3ea0b9>:1: SettingWithCopyWarning: \n",
      "A value is trying to be set on a copy of a slice from a DataFrame.\n",
      "Try using .loc[row_indexer,col_indexer] = value instead\n",
      "\n",
      "See the caveats in the documentation: https://pandas.pydata.org/pandas-docs/stable/user_guide/indexing.html#returning-a-view-versus-a-copy\n",
      "  X_train[\"Kmediods_cluster\"]=km.labels_\n"
     ]
    }
   ],
   "source": [
    "X_train[\"Kmediods_cluster\"]=km.labels_"
   ]
  },
  {
   "cell_type": "code",
   "execution_count": 11,
   "metadata": {
    "executionInfo": {
     "elapsed": 4,
     "status": "ok",
     "timestamp": 1659249096883,
     "user": {
      "displayName": "Alonso felipe ruiz",
      "userId": "07344339143251473245"
     },
     "user_tz": -60
    },
    "id": "5LfWDQPpeI36"
   },
   "outputs": [
    {
     "name": "stderr",
     "output_type": "stream",
     "text": [
      "<ipython-input-11-2362ef49cf24>:1: SettingWithCopyWarning: \n",
      "A value is trying to be set on a copy of a slice from a DataFrame.\n",
      "Try using .loc[row_indexer,col_indexer] = value instead\n",
      "\n",
      "See the caveats in the documentation: https://pandas.pydata.org/pandas-docs/stable/user_guide/indexing.html#returning-a-view-versus-a-copy\n",
      "  X_test[\"Kmediods_cluster\"]=km.predict(X_test_species)\n"
     ]
    }
   ],
   "source": [
    "X_test[\"Kmediods_cluster\"]=km.predict(X_test_species)"
   ]
  },
  {
   "cell_type": "code",
   "execution_count": 12,
   "metadata": {
    "colab": {
     "base_uri": "https://localhost:8080/"
    },
    "executionInfo": {
     "elapsed": 825,
     "status": "ok",
     "timestamp": 1659249097705,
     "user": {
      "displayName": "Alonso felipe ruiz",
      "userId": "07344339143251473245"
     },
     "user_tz": -60
    },
    "id": "BWD3uzNOTMGd",
    "outputId": "f167fc93-ae6d-4d01-9e9b-08602bbc97e3"
   },
   "outputs": [
    {
     "data": {
      "text/plain": [
       "KMedoids(init='k-medoids++', n_clusters=10, random_state=0)"
      ]
     },
     "execution_count": 12,
     "metadata": {},
     "output_type": "execute_result"
    }
   ],
   "source": [
    "from sklearn_extra.cluster import KMedoids\n",
    "km_phylo = KMedoids(n_clusters=10, init='k-medoids++', random_state=0)\n",
    "km_phylo.fit(X_train_phylo)"
   ]
  },
  {
   "cell_type": "code",
   "execution_count": 13,
   "metadata": {},
   "outputs": [],
   "source": [
    "#Save Kmediods model phylo\n",
    "import pickle\n",
    "filename = 'Models/kmediods_phylo.sav'\n",
    "pickle.dump(km_phylo, open(filename, 'wb'))"
   ]
  },
  {
   "cell_type": "code",
   "execution_count": 14,
   "metadata": {
    "executionInfo": {
     "elapsed": 426,
     "status": "ok",
     "timestamp": 1659249098127,
     "user": {
      "displayName": "Alonso felipe ruiz",
      "userId": "07344339143251473245"
     },
     "user_tz": -60
    },
    "id": "RasjrOLyTeje"
   },
   "outputs": [
    {
     "name": "stderr",
     "output_type": "stream",
     "text": [
      "<ipython-input-14-91e31e0264a7>:1: SettingWithCopyWarning: \n",
      "A value is trying to be set on a copy of a slice from a DataFrame.\n",
      "Try using .loc[row_indexer,col_indexer] = value instead\n",
      "\n",
      "See the caveats in the documentation: https://pandas.pydata.org/pandas-docs/stable/user_guide/indexing.html#returning-a-view-versus-a-copy\n",
      "  X_train[\"Kmediods_phylo\"]=km_phylo.labels_\n"
     ]
    }
   ],
   "source": [
    "X_train[\"Kmediods_phylo\"]=km_phylo.labels_"
   ]
  },
  {
   "cell_type": "code",
   "execution_count": 15,
   "metadata": {
    "executionInfo": {
     "elapsed": 9,
     "status": "ok",
     "timestamp": 1659249098128,
     "user": {
      "displayName": "Alonso felipe ruiz",
      "userId": "07344339143251473245"
     },
     "user_tz": -60
    },
    "id": "GH7ZdwMxeft1"
   },
   "outputs": [
    {
     "name": "stderr",
     "output_type": "stream",
     "text": [
      "<ipython-input-15-1bc3d59678ef>:1: SettingWithCopyWarning: \n",
      "A value is trying to be set on a copy of a slice from a DataFrame.\n",
      "Try using .loc[row_indexer,col_indexer] = value instead\n",
      "\n",
      "See the caveats in the documentation: https://pandas.pydata.org/pandas-docs/stable/user_guide/indexing.html#returning-a-view-versus-a-copy\n",
      "  X_test[\"Kmediods_phylo\"]=km_phylo.predict(X_test_phylo)\n"
     ]
    }
   ],
   "source": [
    "X_test[\"Kmediods_phylo\"]=km_phylo.predict(X_test_phylo)"
   ]
  },
  {
   "cell_type": "code",
   "execution_count": 16,
   "metadata": {
    "colab": {
     "base_uri": "https://localhost:8080/",
     "height": 642
    },
    "executionInfo": {
     "elapsed": 2561,
     "status": "ok",
     "timestamp": 1659249116097,
     "user": {
      "displayName": "Alonso felipe ruiz",
      "userId": "07344339143251473245"
     },
     "user_tz": -60
    },
    "id": "fn8hAZ8zTl_X",
    "outputId": "d86c143c-6145-4507-c32a-344eb66cd608"
   },
   "outputs": [
    {
     "data": {
      "text/plain": [
       "<AxesSubplot:xlabel='Kmediods_phylo', ylabel='count'>"
      ]
     },
     "execution_count": 16,
     "metadata": {},
     "output_type": "execute_result"
    },
    {
     "data": {
      "image/png": "[encoded data removed]",
      "text/plain": [
       "<Figure size 1440x864 with 2 Axes>"
      ]
     },
     "metadata": {
      "needs_background": "light"
     },
     "output_type": "display_data"
    }
   ],
   "source": [
    "fig, axs = plt.subplots(1, 2, figsize=(20, 12))\n",
    "bar_shannon = plt.subplot(211)\n",
    "sns.countplot(data=pd.merge(X_test, y, left_index=True, right_index=True), x=\"Kmediods_cluster\", hue=\"was_preterm\")\n",
    "bar_shannon = plt.subplot(212)\n",
    "sns.countplot(data=pd.merge(X_test, y, left_index=True, right_index=True), x=\"Kmediods_phylo\", hue=\"was_preterm\")"
   ]
  },
  {
   "cell_type": "markdown",
   "metadata": {},
   "source": [
    "We can see that some of the groups give information about the preterm birth, is some cases like group 2 in kmediods-cluster there is huge abundance of term samples. In the k-mediods_phylo group 3 the amount of term and preterm is almost the same, taking in count the unbalanced data that seems like a cluster were preterm birth is more common."
   ]
  },
  {
   "cell_type": "markdown",
   "metadata": {
    "id": "9HaigBUFimz6"
   },
   "source": [
    "**Machine learning model**\n"
   ]
  },
  {
   "cell_type": "code",
   "execution_count": 17,
   "metadata": {
    "executionInfo": {
     "elapsed": 412,
     "status": "ok",
     "timestamp": 1659249137910,
     "user": {
      "displayName": "Alonso felipe ruiz",
      "userId": "07344339143251473245"
     },
     "user_tz": -60
    },
    "id": "5NIc9hqiizdU"
   },
   "outputs": [],
   "source": [
    "dis_variables = X_train.select_dtypes(exclude=np.number).columns.to_list()+[\"Kmediods_cluster\",\"Kmediods_phylo\"]\n",
    "num_variables = (\n",
    "    X_train.select_dtypes(include=np.number).columns\n",
    "    .drop([\"Kmediods_cluster\",\"Kmediods_phylo\"]).to_list()\n",
    ")"
   ]
  },
  {
   "cell_type": "markdown",
   "metadata": {},
   "source": [
    "First of all the preprocessing pipeline, as we can see here, I will Standarize the numeric variables with a standard scaler and the discrete will be codified as a one hot encoder."
   ]
  },
  {
   "cell_type": "code",
   "execution_count": 18,
   "metadata": {
    "executionInfo": {
     "elapsed": 3,
     "status": "ok",
     "timestamp": 1659249141872,
     "user": {
      "displayName": "Alonso felipe ruiz",
      "userId": "07344339143251473245"
     },
     "user_tz": -60
    },
    "id": "zS5NdruLjfWf"
   },
   "outputs": [],
   "source": [
    "#Pre-processing pipeline\n",
    "from sklearn.preprocessing import OneHotEncoder\n",
    "from sklearn.pipeline import Pipeline\n",
    "from sklearn.preprocessing import StandardScaler\n",
    "from sklearn.compose import ColumnTransformer\n",
    "from sklearn.impute import SimpleImputer\n",
    "from sklearn.preprocessing import OrdinalEncoder\n",
    "\n",
    "#Lista de tiempos que se usaran en el ensayo\n",
    "cat_transformer = Pipeline([('imputer', SimpleImputer(strategy='constant', fill_value='missing')), \n",
    "                     ('onehot', OneHotEncoder(handle_unknown='ignore'))])\n",
    "num_transformer = Pipeline([('scaler', StandardScaler())])\n",
    "term_trans = ColumnTransformer(\n",
    "    transformers=[\n",
    "        ('num', num_transformer, num_variables),\n",
    "        ('cat', cat_transformer, dis_variables)])"
   ]
  },
  {
   "cell_type": "markdown",
   "metadata": {},
   "source": [
    "And now the RandomForestRegressor tree, I tested houndred of models using Grid Search, this parameters are the best performing ones."
   ]
  },
  {
   "cell_type": "code",
   "execution_count": 19,
   "metadata": {
    "colab": {
     "base_uri": "https://localhost:8080/"
    },
    "executionInfo": {
     "elapsed": 70686,
     "status": "ok",
     "timestamp": 1659249223558,
     "user": {
      "displayName": "Alonso felipe ruiz",
      "userId": "07344339143251473245"
     },
     "user_tz": -60
    },
    "id": "glWyhHUFwiH_",
    "outputId": "a5888afd-d6a5-4dde-dd95-575666a76092"
   },
   "outputs": [
    {
     "data": {
      "text/plain": [
       "Pipeline(steps=[('prep',\n",
       "                 ColumnTransformer(transformers=[('num',\n",
       "                                                  Pipeline(steps=[('scaler',\n",
       "                                                                   StandardScaler())]),\n",
       "                                                  [\"'Geomonas' Khan et al. \"\n",
       "                                                   '2020',\n",
       "                                                   'Abditibacterium',\n",
       "                                                   'Abiotrophia defectiva',\n",
       "                                                   'Absiella',\n",
       "                                                   'Absiella dolichum',\n",
       "                                                   'Abyssicoccus',\n",
       "                                                   'Acetobacter',\n",
       "                                                   'Acetobacter '\n",
       "                                                   'cibinongensis/orientalis',\n",
       "                                                   'Acetobacter persici',\n",
       "                                                   'Acetobacteraceae',\n",
       "                                                   'Acetobacteraceae/Succinivibrion...\n",
       "                                                 ('cat',\n",
       "                                                  Pipeline(steps=[('imputer',\n",
       "                                                                   SimpleImputer(fill_value='missing',\n",
       "                                                                                 strategy='constant')),\n",
       "                                                                  ('onehot',\n",
       "                                                                   OneHotEncoder(handle_unknown='ignore'))]),\n",
       "                                                  ['CST', 'subCST', 'race',\n",
       "                                                   'age', 'NIH Racial Category',\n",
       "                                                   'NIH Ethnicity Category',\n",
       "                                                   'Kmediods_cluster',\n",
       "                                                   'Kmediods_phylo'])])),\n",
       "                ('clas',\n",
       "                 RandomForestRegressor(bootstrap=False, max_depth=20,\n",
       "                                       max_features='sqrt',\n",
       "                                       n_estimators=1800))])"
      ]
     },
     "execution_count": 19,
     "metadata": {},
     "output_type": "execute_result"
    }
   ],
   "source": [
    "from sklearn.ensemble import RandomForestRegressor\n",
    "from sklearn.model_selection import GridSearchCV\n",
    "\n",
    "term_pipe_RF = Pipeline([('prep', term_trans),\n",
    "                 ('clas', RandomForestRegressor(bootstrap=False, max_depth=20, max_features='sqrt',min_samples_leaf=1, \n",
    "                                                min_samples_split=2,n_estimators=1800))])\n",
    "term_pipe_RF.fit(X_train, y_train[\"was_preterm\"])\n",
    "        "
   ]
  },
  {
   "cell_type": "code",
   "execution_count": 20,
   "metadata": {},
   "outputs": [],
   "source": [
    "#Save RandomForest model phylo\n",
    "import pickle\n",
    "filename = 'Models/RandomForest_preterm.sav'\n",
    "pickle.dump(term_pipe_RF, open(filename, 'wb'))"
   ]
  },
  {
   "cell_type": "code",
   "execution_count": 21,
   "metadata": {},
   "outputs": [
    {
     "name": "stderr",
     "output_type": "stream",
     "text": [
      "<ipython-input-21-be6d1d583180>:1: SettingWithCopyWarning: \n",
      "A value is trying to be set on a copy of a slice from a DataFrame.\n",
      "Try using .loc[row_indexer,col_indexer] = value instead\n",
      "\n",
      "See the caveats in the documentation: https://pandas.pydata.org/pandas-docs/stable/user_guide/indexing.html#returning-a-view-versus-a-copy\n",
      "  y_test[\"prediction_prob\"]=term_pipe_RF.predict(X_test)\n"
     ]
    }
   ],
   "source": [
    "y_test[\"prediction_prob\"]=term_pipe_RF.predict(X_test)"
   ]
  },
  {
   "cell_type": "code",
   "execution_count": 22,
   "metadata": {
    "colab": {
     "base_uri": "https://localhost:8080/"
    },
    "executionInfo": {
     "elapsed": 1948,
     "status": "ok",
     "timestamp": 1659249269395,
     "user": {
      "displayName": "Alonso felipe ruiz",
      "userId": "07344339143251473245"
     },
     "user_tz": -60
    },
    "id": "gEoIneGslhYU",
    "outputId": "6b229895-cde2-4b95-f88d-ff2fab089efa"
   },
   "outputs": [
    {
     "data": {
      "text/plain": [
       "0.8450744816228759"
      ]
     },
     "execution_count": 22,
     "metadata": {},
     "output_type": "execute_result"
    }
   ],
   "source": [
    "from sklearn import metrics\n",
    "metrics.roc_auc_score(y_test[\"was_preterm\"], term_pipe_RF.predict(X_test))"
   ]
  },
  {
   "cell_type": "markdown",
   "metadata": {},
   "source": [
    "Now we group the predictions by participant_id, obtaining the mean of the probabilities when more than one sample was taken from the participant. I had tryed different aggregation methods and taking the minimal prediction when more than one sample is taken from a patient works better."
   ]
  },
  {
   "cell_type": "code",
   "execution_count": 23,
   "metadata": {},
   "outputs": [
    {
     "data": {
      "text/plain": [
       "0.8229199858382015"
      ]
     },
     "execution_count": 23,
     "metadata": {},
     "output_type": "execute_result"
    }
   ],
   "source": [
    "from sklearn import metrics\n",
    "(\n",
    "    metrics.roc_auc_score(y_test.groupby(\"participant_id\").mean()[\"was_preterm\"], \n",
    "                          y_test.groupby(\"participant_id\").mean()[\"prediction_prob\"])\n",
    ")"
   ]
  },
  {
   "cell_type": "code",
   "execution_count": 24,
   "metadata": {},
   "outputs": [
    {
     "data": {
      "text/html": [
       "<div>\n",
       "<style scoped>\n",
       "    .dataframe tbody tr th:only-of-type {\n",
       "        vertical-align: middle;\n",
       "    }\n",
       "\n",
       "    .dataframe tbody tr th {\n",
       "        vertical-align: top;\n",
       "    }\n",
       "\n",
       "    .dataframe thead th {\n",
       "        text-align: right;\n",
       "    }\n",
       "</style>\n",
       "<table border=\"1\" class=\"dataframe\">\n",
       "  <thead>\n",
       "    <tr style=\"text-align: right;\">\n",
       "      <th></th>\n",
       "      <th>was_preterm</th>\n",
       "      <th>was_early_preterm</th>\n",
       "      <th>prediction_prob</th>\n",
       "    </tr>\n",
       "    <tr>\n",
       "      <th>participant_id</th>\n",
       "      <th></th>\n",
       "      <th></th>\n",
       "      <th></th>\n",
       "    </tr>\n",
       "  </thead>\n",
       "  <tbody>\n",
       "    <tr>\n",
       "      <th>A00004</th>\n",
       "      <td>0</td>\n",
       "      <td>0</td>\n",
       "      <td>0.201642</td>\n",
       "    </tr>\n",
       "    <tr>\n",
       "      <th>A00005</th>\n",
       "      <td>0</td>\n",
       "      <td>0</td>\n",
       "      <td>0.171463</td>\n",
       "    </tr>\n",
       "    <tr>\n",
       "      <th>A00006</th>\n",
       "      <td>0</td>\n",
       "      <td>0</td>\n",
       "      <td>0.227779</td>\n",
       "    </tr>\n",
       "    <tr>\n",
       "      <th>A00009</th>\n",
       "      <td>0</td>\n",
       "      <td>0</td>\n",
       "      <td>0.217410</td>\n",
       "    </tr>\n",
       "    <tr>\n",
       "      <th>A00010</th>\n",
       "      <td>0</td>\n",
       "      <td>0</td>\n",
       "      <td>0.271891</td>\n",
       "    </tr>\n",
       "    <tr>\n",
       "      <th>...</th>\n",
       "      <td>...</td>\n",
       "      <td>...</td>\n",
       "      <td>...</td>\n",
       "    </tr>\n",
       "    <tr>\n",
       "      <th>J00104</th>\n",
       "      <td>0</td>\n",
       "      <td>0</td>\n",
       "      <td>0.349356</td>\n",
       "    </tr>\n",
       "    <tr>\n",
       "      <th>J00108</th>\n",
       "      <td>0</td>\n",
       "      <td>0</td>\n",
       "      <td>0.309525</td>\n",
       "    </tr>\n",
       "    <tr>\n",
       "      <th>J00111</th>\n",
       "      <td>0</td>\n",
       "      <td>0</td>\n",
       "      <td>0.390183</td>\n",
       "    </tr>\n",
       "    <tr>\n",
       "      <th>J00112</th>\n",
       "      <td>0</td>\n",
       "      <td>0</td>\n",
       "      <td>0.419911</td>\n",
       "    </tr>\n",
       "    <tr>\n",
       "      <th>J00113</th>\n",
       "      <td>0</td>\n",
       "      <td>0</td>\n",
       "      <td>0.500989</td>\n",
       "    </tr>\n",
       "  </tbody>\n",
       "</table>\n",
       "<p>748 rows × 3 columns</p>\n",
       "</div>"
      ],
      "text/plain": [
       "                was_preterm  was_early_preterm  prediction_prob\n",
       "participant_id                                                 \n",
       "A00004                    0                  0         0.201642\n",
       "A00005                    0                  0         0.171463\n",
       "A00006                    0                  0         0.227779\n",
       "A00009                    0                  0         0.217410\n",
       "A00010                    0                  0         0.271891\n",
       "...                     ...                ...              ...\n",
       "J00104                    0                  0         0.349356\n",
       "J00108                    0                  0         0.309525\n",
       "J00111                    0                  0         0.390183\n",
       "J00112                    0                  0         0.419911\n",
       "J00113                    0                  0         0.500989\n",
       "\n",
       "[748 rows x 3 columns]"
      ]
     },
     "execution_count": 24,
     "metadata": {},
     "output_type": "execute_result"
    }
   ],
   "source": [
    "y_test.groupby(\"participant_id\").mean()"
   ]
  },
  {
   "cell_type": "code",
   "execution_count": 25,
   "metadata": {},
   "outputs": [
    {
     "data": {
      "text/plain": [
       "<AxesSubplot:xlabel='prediction_prob', ylabel='Count'>"
      ]
     },
     "execution_count": 25,
     "metadata": {},
     "output_type": "execute_result"
    },
    {
     "data": {
      "image/png": "[encoded data removed]",
      "text/plain": [
       "<Figure size 432x288 with 1 Axes>"
      ]
     },
     "metadata": {
      "needs_background": "light"
     },
     "output_type": "display_data"
    }
   ],
   "source": [
    "sns.histplot(y_test, x=\"prediction_prob\", hue=\"was_preterm\")"
   ]
  },
  {
   "cell_type": "code",
   "execution_count": 34,
   "metadata": {},
   "outputs": [
    {
     "data": {
      "image/png": "[encoded data removed]",
      "text/plain": [
       "<Figure size 432x288 with 1 Axes>"
      ]
     },
     "metadata": {
      "needs_background": "light"
     },
     "output_type": "display_data"
    }
   ],
   "source": [
    "fpr, tpr, _ = metrics.roc_curve(y_test[\"was_preterm\"],  y_test[\"prediction_prob\"])\n",
    "#create ROC curve\n",
    "plt.plot(fpr,tpr)\n",
    "plt.ylabel('True Positive Rate')\n",
    "plt.xlabel('False Positive Rate')\n",
    "plt.show()"
   ]
  },
  {
   "cell_type": "markdown",
   "metadata": {},
   "source": [
    "**Early preterm model**"
   ]
  },
  {
   "cell_type": "markdown",
   "metadata": {},
   "source": [
    "This is an example of how grid search have been performed and which parameters were tested."
   ]
  },
  {
   "cell_type": "code",
   "execution_count": null,
   "metadata": {
    "colab": {
     "base_uri": "https://localhost:8080/"
    },
    "id": "03ahBakaG-zV",
    "outputId": "72a2098d-8e9c-471b-bda1-62d687d39d8c"
   },
   "outputs": [],
   "source": [
    "from sklearn.ensemble import RandomForestRegressor\n",
    "from sklearn.model_selection import GridSearchCV\n",
    "parameters={'clas__bootstrap': [True, False],'clas__max_depth': [20],'clas__max_features': ['auto', 'sqrt'],'clas__min_samples_leaf': [1, 2, 4],'clas__min_samples_split': [2, 5, 10],'clas__n_estimators': [200, 400, 600, 800, 1000, 1200, 1400, 1600, 1800, 2000]}\n",
    "\n",
    "term_pipe_RF = Pipeline([('prep', term_trans),\n",
    "                 ('clas', RandomForestRegressor())])\n",
    "GS = GridSearchCV(term_pipe_RF, param_grid=parameters, cv=5, verbose=10, scoring='roc_auc')\n",
    "GS.fit(X_train, y_train[\"was_early_preterm\"])\n",
    "        \n",
    "print(\"Mejor score: \", GS.best_score_)\n",
    "print(\"Mejor configuración de parámetros: \", GS.best_params_)\n",
    "\n",
    "RF = GS.best_estimator_"
   ]
  },
  {
   "cell_type": "code",
   "execution_count": 26,
   "metadata": {
    "colab": {
     "base_uri": "https://localhost:8080/"
    },
    "executionInfo": {
     "elapsed": 87755,
     "status": "ok",
     "timestamp": 1659249438269,
     "user": {
      "displayName": "Alonso felipe ruiz",
      "userId": "07344339143251473245"
     },
     "user_tz": -60
    },
    "id": "jFnBCUBNwdRF",
    "outputId": "93a3ac19-4cd3-494e-8e74-1003fd054281"
   },
   "outputs": [
    {
     "data": {
      "text/plain": [
       "Pipeline(steps=[('prep',\n",
       "                 ColumnTransformer(transformers=[('num',\n",
       "                                                  Pipeline(steps=[('scaler',\n",
       "                                                                   StandardScaler())]),\n",
       "                                                  [\"'Geomonas' Khan et al. \"\n",
       "                                                   '2020',\n",
       "                                                   'Abditibacterium',\n",
       "                                                   'Abiotrophia defectiva',\n",
       "                                                   'Absiella',\n",
       "                                                   'Absiella dolichum',\n",
       "                                                   'Abyssicoccus',\n",
       "                                                   'Acetobacter',\n",
       "                                                   'Acetobacter '\n",
       "                                                   'cibinongensis/orientalis',\n",
       "                                                   'Acetobacter persici',\n",
       "                                                   'Acetobacteraceae',\n",
       "                                                   'Acetobacteraceae/Succinivibrion...\n",
       "                                                  Pipeline(steps=[('imputer',\n",
       "                                                                   SimpleImputer(fill_value='missing',\n",
       "                                                                                 strategy='constant')),\n",
       "                                                                  ('onehot',\n",
       "                                                                   OneHotEncoder(handle_unknown='ignore'))]),\n",
       "                                                  ['CST', 'subCST', 'race',\n",
       "                                                   'age', 'NIH Racial Category',\n",
       "                                                   'NIH Ethnicity Category',\n",
       "                                                   'Kmediods_cluster',\n",
       "                                                   'Kmediods_phylo'])])),\n",
       "                ('clas',\n",
       "                 RandomForestRegressor(max_depth=50, max_features='sqrt',\n",
       "                                       min_samples_leaf=2, min_samples_split=5,\n",
       "                                       n_estimators=800))])"
      ]
     },
     "execution_count": 26,
     "metadata": {},
     "output_type": "execute_result"
    }
   ],
   "source": [
    "from sklearn.ensemble import RandomForestRegressor\n",
    "from sklearn.model_selection import GridSearchCV\n",
    "\n",
    "early_term_pipe_RF = Pipeline([('prep', term_trans),\n",
    "                 ('clas', RandomForestRegressor(bootstrap=True, max_depth=50, max_features='sqrt',min_samples_leaf=2, \n",
    "                                                min_samples_split=5,n_estimators=800))])\n",
    "early_term_pipe_RF.fit(X_train, y_train[\"was_early_preterm\"])\n",
    "        "
   ]
  },
  {
   "cell_type": "code",
   "execution_count": 27,
   "metadata": {},
   "outputs": [],
   "source": [
    "#Save RandomForest model phylo\n",
    "import pickle\n",
    "filename = 'Models/RandomForest_early_preterm.sav'\n",
    "pickle.dump(early_term_pipe_RF, open(filename, 'wb'))"
   ]
  },
  {
   "cell_type": "code",
   "execution_count": 28,
   "metadata": {
    "colab": {
     "base_uri": "https://localhost:8080/"
    },
    "executionInfo": {
     "elapsed": 1902,
     "status": "ok",
     "timestamp": 1659249658058,
     "user": {
      "displayName": "Alonso felipe ruiz",
      "userId": "07344339143251473245"
     },
     "user_tz": -60
    },
    "id": "5XqQyJ9z8Lgn",
    "outputId": "fe2e5c19-87fb-4059-d073-ce021533c430"
   },
   "outputs": [
    {
     "data": {
      "text/plain": [
       "0.8353488265633106"
      ]
     },
     "execution_count": 28,
     "metadata": {},
     "output_type": "execute_result"
    }
   ],
   "source": [
    "from sklearn import metrics\n",
    "metrics.roc_auc_score(y_test[\"was_early_preterm\"], early_term_pipe_RF.predict(X_test))"
   ]
  },
  {
   "cell_type": "code",
   "execution_count": 29,
   "metadata": {},
   "outputs": [
    {
     "name": "stderr",
     "output_type": "stream",
     "text": [
      "<ipython-input-29-a1784506c6d3>:1: SettingWithCopyWarning: \n",
      "A value is trying to be set on a copy of a slice from a DataFrame.\n",
      "Try using .loc[row_indexer,col_indexer] = value instead\n",
      "\n",
      "See the caveats in the documentation: https://pandas.pydata.org/pandas-docs/stable/user_guide/indexing.html#returning-a-view-versus-a-copy\n",
      "  y_test[\"prediction_prob_early\"]=early_term_pipe_RF.predict(X_test)\n"
     ]
    }
   ],
   "source": [
    "y_test[\"prediction_prob_early\"]=early_term_pipe_RF.predict(X_test)"
   ]
  },
  {
   "cell_type": "code",
   "execution_count": 30,
   "metadata": {
    "id": "5Fax04Rm_H52"
   },
   "outputs": [
    {
     "data": {
      "text/plain": [
       "0.8320602465535525"
      ]
     },
     "execution_count": 30,
     "metadata": {},
     "output_type": "execute_result"
    }
   ],
   "source": [
    "from sklearn import metrics\n",
    "(\n",
    "    metrics.roc_auc_score(y_test.groupby(\"participant_id\").min()[\"was_early_preterm\"], \n",
    "                          y_test.groupby(\"participant_id\").min()[\"prediction_prob_early\"])\n",
    ")"
   ]
  },
  {
   "cell_type": "code",
   "execution_count": 31,
   "metadata": {},
   "outputs": [
    {
     "data": {
      "text/html": [
       "<div>\n",
       "<style scoped>\n",
       "    .dataframe tbody tr th:only-of-type {\n",
       "        vertical-align: middle;\n",
       "    }\n",
       "\n",
       "    .dataframe tbody tr th {\n",
       "        vertical-align: top;\n",
       "    }\n",
       "\n",
       "    .dataframe thead th {\n",
       "        text-align: right;\n",
       "    }\n",
       "</style>\n",
       "<table border=\"1\" class=\"dataframe\">\n",
       "  <thead>\n",
       "    <tr style=\"text-align: right;\">\n",
       "      <th></th>\n",
       "      <th>was_preterm</th>\n",
       "      <th>was_early_preterm</th>\n",
       "      <th>prediction_prob</th>\n",
       "      <th>prediction_prob_early</th>\n",
       "    </tr>\n",
       "    <tr>\n",
       "      <th>participant_id</th>\n",
       "      <th></th>\n",
       "      <th></th>\n",
       "      <th></th>\n",
       "      <th></th>\n",
       "    </tr>\n",
       "  </thead>\n",
       "  <tbody>\n",
       "    <tr>\n",
       "      <th>A00004</th>\n",
       "      <td>0</td>\n",
       "      <td>0</td>\n",
       "      <td>0.201642</td>\n",
       "      <td>0.059332</td>\n",
       "    </tr>\n",
       "    <tr>\n",
       "      <th>A00005</th>\n",
       "      <td>0</td>\n",
       "      <td>0</td>\n",
       "      <td>0.171463</td>\n",
       "      <td>0.073693</td>\n",
       "    </tr>\n",
       "    <tr>\n",
       "      <th>A00006</th>\n",
       "      <td>0</td>\n",
       "      <td>0</td>\n",
       "      <td>0.227779</td>\n",
       "      <td>0.055344</td>\n",
       "    </tr>\n",
       "    <tr>\n",
       "      <th>A00009</th>\n",
       "      <td>0</td>\n",
       "      <td>0</td>\n",
       "      <td>0.217410</td>\n",
       "      <td>0.232053</td>\n",
       "    </tr>\n",
       "    <tr>\n",
       "      <th>A00010</th>\n",
       "      <td>0</td>\n",
       "      <td>0</td>\n",
       "      <td>0.271891</td>\n",
       "      <td>0.069048</td>\n",
       "    </tr>\n",
       "    <tr>\n",
       "      <th>...</th>\n",
       "      <td>...</td>\n",
       "      <td>...</td>\n",
       "      <td>...</td>\n",
       "      <td>...</td>\n",
       "    </tr>\n",
       "    <tr>\n",
       "      <th>J00104</th>\n",
       "      <td>0</td>\n",
       "      <td>0</td>\n",
       "      <td>0.349356</td>\n",
       "      <td>0.164489</td>\n",
       "    </tr>\n",
       "    <tr>\n",
       "      <th>J00108</th>\n",
       "      <td>0</td>\n",
       "      <td>0</td>\n",
       "      <td>0.309525</td>\n",
       "      <td>0.132744</td>\n",
       "    </tr>\n",
       "    <tr>\n",
       "      <th>J00111</th>\n",
       "      <td>0</td>\n",
       "      <td>0</td>\n",
       "      <td>0.390183</td>\n",
       "      <td>0.057294</td>\n",
       "    </tr>\n",
       "    <tr>\n",
       "      <th>J00112</th>\n",
       "      <td>0</td>\n",
       "      <td>0</td>\n",
       "      <td>0.419911</td>\n",
       "      <td>0.096012</td>\n",
       "    </tr>\n",
       "    <tr>\n",
       "      <th>J00113</th>\n",
       "      <td>0</td>\n",
       "      <td>0</td>\n",
       "      <td>0.500989</td>\n",
       "      <td>0.128285</td>\n",
       "    </tr>\n",
       "  </tbody>\n",
       "</table>\n",
       "<p>748 rows × 4 columns</p>\n",
       "</div>"
      ],
      "text/plain": [
       "                was_preterm  was_early_preterm  prediction_prob  \\\n",
       "participant_id                                                    \n",
       "A00004                    0                  0         0.201642   \n",
       "A00005                    0                  0         0.171463   \n",
       "A00006                    0                  0         0.227779   \n",
       "A00009                    0                  0         0.217410   \n",
       "A00010                    0                  0         0.271891   \n",
       "...                     ...                ...              ...   \n",
       "J00104                    0                  0         0.349356   \n",
       "J00108                    0                  0         0.309525   \n",
       "J00111                    0                  0         0.390183   \n",
       "J00112                    0                  0         0.419911   \n",
       "J00113                    0                  0         0.500989   \n",
       "\n",
       "                prediction_prob_early  \n",
       "participant_id                         \n",
       "A00004                       0.059332  \n",
       "A00005                       0.073693  \n",
       "A00006                       0.055344  \n",
       "A00009                       0.232053  \n",
       "A00010                       0.069048  \n",
       "...                               ...  \n",
       "J00104                       0.164489  \n",
       "J00108                       0.132744  \n",
       "J00111                       0.057294  \n",
       "J00112                       0.096012  \n",
       "J00113                       0.128285  \n",
       "\n",
       "[748 rows x 4 columns]"
      ]
     },
     "execution_count": 31,
     "metadata": {},
     "output_type": "execute_result"
    }
   ],
   "source": [
    "y_test.groupby(\"participant_id\").mean()"
   ]
  },
  {
   "cell_type": "code",
   "execution_count": 32,
   "metadata": {},
   "outputs": [
    {
     "data": {
      "text/plain": [
       "<AxesSubplot:xlabel='prediction_prob_early', ylabel='Count'>"
      ]
     },
     "execution_count": 32,
     "metadata": {},
     "output_type": "execute_result"
    },
    {
     "data": {
      "image/png": "[encoded data removed]",
      "text/plain": [
       "<Figure size 432x288 with 1 Axes>"
      ]
     },
     "metadata": {
      "needs_background": "light"
     },
     "output_type": "display_data"
    }
   ],
   "source": [
    "sns.histplot(y_test, x=\"prediction_prob_early\", hue=\"was_early_preterm\")"
   ]
  },
  {
   "cell_type": "code",
   "execution_count": 35,
   "metadata": {},
   "outputs": [
    {
     "data": {
      "image/png": "[encoded data removed]",
      "text/plain": [
       "<Figure size 432x288 with 1 Axes>"
      ]
     },
     "metadata": {
      "needs_background": "light"
     },
     "output_type": "display_data"
    }
   ],
   "source": [
    "fpr, tpr, _ = metrics.roc_curve(y_test[\"was_early_preterm\"],  y_test[\"prediction_prob_early\"])\n",
    "#create ROC curve\n",
    "plt.plot(fpr,tpr)\n",
    "plt.ylabel('True Positive Rate')\n",
    "plt.xlabel('False Positive Rate')\n",
    "plt.show()"
   ]
  },
  {
   "cell_type": "markdown",
   "metadata": {},
   "source": [
    "**Final models trained with all the data**"
   ]
  },
  {
   "cell_type": "code",
   "execution_count": 22,
   "metadata": {},
   "outputs": [],
   "source": [
    "complete_df=(\n",
    "    pd.merge(phylo_alpha_cst_species_metadata, genus, suffixes=(None, \"_genus\"), \n",
    "             left_index=True, right_index=True)\n",
    ")\n",
    "y=complete_df[[\"was_preterm\", \"was_early_preterm\"]].astype(\"int\")\n",
    "y=pd.merge(y, complete_df[\"participant_id\"], left_index=True, right_index=True)\n",
    "complete_df.drop([\"was_preterm\", \"was_term\", \"project\", \"participant_id\", \"delivery_wk\", \"was_early_preterm\", \"collect_wk\"], axis=1, inplace=True)"
   ]
  },
  {
   "cell_type": "code",
   "execution_count": 23,
   "metadata": {},
   "outputs": [],
   "source": [
    "X_train=complete_df.copy()"
   ]
  },
  {
   "cell_type": "markdown",
   "metadata": {},
   "source": [
    "Train the kmediods models with all the data"
   ]
  },
  {
   "cell_type": "code",
   "execution_count": 24,
   "metadata": {
    "executionInfo": {
     "elapsed": 7,
     "status": "ok",
     "timestamp": 1659249092763,
     "user": {
      "displayName": "Alonso felipe ruiz",
      "userId": "07344339143251473245"
     },
     "user_tz": -60
    },
    "id": "Ha5qmj1ANaWU"
   },
   "outputs": [],
   "source": [
    "X_train_species=X_train[species.columns]\n",
    "X_train_phylo=X_train[phylo.columns]\n",
    "X_test_species=X_test[species.columns]\n",
    "X_test_phylo=X_test[phylo.columns]"
   ]
  },
  {
   "cell_type": "code",
   "execution_count": 25,
   "metadata": {
    "colab": {
     "base_uri": "https://localhost:8080/"
    },
    "executionInfo": {
     "elapsed": 855,
     "status": "ok",
     "timestamp": 1659249096883,
     "user": {
      "displayName": "Alonso felipe ruiz",
      "userId": "07344339143251473245"
     },
     "user_tz": -60
    },
    "id": "q76EPLuxPzMf",
    "outputId": "0b0ad373-15bf-44e5-b9b7-77166e6bba01"
   },
   "outputs": [
    {
     "data": {
      "text/plain": [
       "KMedoids(init='k-medoids++', n_clusters=10, random_state=0)"
      ]
     },
     "execution_count": 25,
     "metadata": {},
     "output_type": "execute_result"
    }
   ],
   "source": [
    "from sklearn_extra.cluster import KMedoids\n",
    "km = KMedoids(n_clusters=10, init='k-medoids++', random_state=0)\n",
    "km.fit(X_train_species)"
   ]
  },
  {
   "cell_type": "code",
   "execution_count": 26,
   "metadata": {},
   "outputs": [],
   "source": [
    "#Save Kmediods model\n",
    "import pickle\n",
    "filename = 'Models/kmediods_species_final.sav'\n",
    "pickle.dump(km, open(filename, 'wb'))"
   ]
  },
  {
   "cell_type": "code",
   "execution_count": 27,
   "metadata": {
    "executionInfo": {
     "elapsed": 6,
     "status": "ok",
     "timestamp": 1659249096883,
     "user": {
      "displayName": "Alonso felipe ruiz",
      "userId": "07344339143251473245"
     },
     "user_tz": -60
    },
    "id": "PBNTA6veS_7o"
   },
   "outputs": [],
   "source": [
    "X_train[\"Kmediods_cluster\"]=km.labels_"
   ]
  },
  {
   "cell_type": "code",
   "execution_count": 28,
   "metadata": {
    "colab": {
     "base_uri": "https://localhost:8080/"
    },
    "executionInfo": {
     "elapsed": 825,
     "status": "ok",
     "timestamp": 1659249097705,
     "user": {
      "displayName": "Alonso felipe ruiz",
      "userId": "07344339143251473245"
     },
     "user_tz": -60
    },
    "id": "BWD3uzNOTMGd",
    "outputId": "f167fc93-ae6d-4d01-9e9b-08602bbc97e3"
   },
   "outputs": [
    {
     "data": {
      "text/plain": [
       "KMedoids(init='k-medoids++', n_clusters=10, random_state=0)"
      ]
     },
     "execution_count": 28,
     "metadata": {},
     "output_type": "execute_result"
    }
   ],
   "source": [
    "from sklearn_extra.cluster import KMedoids\n",
    "km_phylo = KMedoids(n_clusters=10, init='k-medoids++', random_state=0)\n",
    "km_phylo.fit(X_train_phylo)"
   ]
  },
  {
   "cell_type": "code",
   "execution_count": 29,
   "metadata": {},
   "outputs": [],
   "source": [
    "#Save Kmediods model phylo\n",
    "import pickle\n",
    "filename = 'Models/kmediods_phylo_final.sav'\n",
    "pickle.dump(km_phylo, open(filename, 'wb'))"
   ]
  },
  {
   "cell_type": "code",
   "execution_count": 30,
   "metadata": {
    "executionInfo": {
     "elapsed": 426,
     "status": "ok",
     "timestamp": 1659249098127,
     "user": {
      "displayName": "Alonso felipe ruiz",
      "userId": "07344339143251473245"
     },
     "user_tz": -60
    },
    "id": "RasjrOLyTeje"
   },
   "outputs": [],
   "source": [
    "X_train[\"Kmediods_phylo\"]=km_phylo.labels_"
   ]
  },
  {
   "cell_type": "markdown",
   "metadata": {},
   "source": [
    "Train de models"
   ]
  },
  {
   "cell_type": "code",
   "execution_count": 31,
   "metadata": {
    "executionInfo": {
     "elapsed": 412,
     "status": "ok",
     "timestamp": 1659249137910,
     "user": {
      "displayName": "Alonso felipe ruiz",
      "userId": "07344339143251473245"
     },
     "user_tz": -60
    },
    "id": "5NIc9hqiizdU"
   },
   "outputs": [],
   "source": [
    "dis_variables = X_train.select_dtypes(exclude=np.number).columns.to_list()+[\"Kmediods_cluster\",\"Kmediods_phylo\"]\n",
    "num_variables = (\n",
    "    X_train.select_dtypes(include=np.number).columns\n",
    "    .drop([\"Kmediods_cluster\",\"Kmediods_phylo\"]).to_list()\n",
    ")"
   ]
  },
  {
   "cell_type": "code",
   "execution_count": 32,
   "metadata": {
    "executionInfo": {
     "elapsed": 3,
     "status": "ok",
     "timestamp": 1659249141872,
     "user": {
      "displayName": "Alonso felipe ruiz",
      "userId": "07344339143251473245"
     },
     "user_tz": -60
    },
    "id": "zS5NdruLjfWf"
   },
   "outputs": [],
   "source": [
    "#Pre-processing pipeline\n",
    "from sklearn.preprocessing import OneHotEncoder\n",
    "from sklearn.pipeline import Pipeline\n",
    "from sklearn.preprocessing import StandardScaler\n",
    "from sklearn.compose import ColumnTransformer\n",
    "from sklearn.impute import SimpleImputer\n",
    "from sklearn.preprocessing import OrdinalEncoder\n",
    "\n",
    "#Lista de tiempos que se usaran en el ensayo\n",
    "cat_transformer = Pipeline([('imputer', SimpleImputer(strategy='constant', fill_value='missing')), \n",
    "                     ('onehot', OneHotEncoder(handle_unknown='ignore'))])\n",
    "num_transformer = Pipeline([('scaler', StandardScaler())])\n",
    "term_trans = ColumnTransformer(\n",
    "    transformers=[\n",
    "        ('num', num_transformer, num_variables),\n",
    "        ('cat', cat_transformer, dis_variables)])"
   ]
  },
  {
   "cell_type": "code",
   "execution_count": 33,
   "metadata": {
    "colab": {
     "base_uri": "https://localhost:8080/"
    },
    "executionInfo": {
     "elapsed": 70686,
     "status": "ok",
     "timestamp": 1659249223558,
     "user": {
      "displayName": "Alonso felipe ruiz",
      "userId": "07344339143251473245"
     },
     "user_tz": -60
    },
    "id": "glWyhHUFwiH_",
    "outputId": "a5888afd-d6a5-4dde-dd95-575666a76092"
   },
   "outputs": [
    {
     "data": {
      "text/plain": [
       "Pipeline(steps=[('prep',\n",
       "                 ColumnTransformer(transformers=[('num',\n",
       "                                                  Pipeline(steps=[('scaler',\n",
       "                                                                   StandardScaler())]),\n",
       "                                                  [\"'Geomonas' Khan et al. \"\n",
       "                                                   '2020',\n",
       "                                                   'Abditibacterium',\n",
       "                                                   'Abiotrophia defectiva',\n",
       "                                                   'Absiella',\n",
       "                                                   'Absiella dolichum',\n",
       "                                                   'Abyssicoccus',\n",
       "                                                   'Acetobacter',\n",
       "                                                   'Acetobacter '\n",
       "                                                   'cibinongensis/orientalis',\n",
       "                                                   'Acetobacter persici',\n",
       "                                                   'Acetobacteraceae',\n",
       "                                                   'Acetobacteraceae/Succinivibrion...\n",
       "                                                 ('cat',\n",
       "                                                  Pipeline(steps=[('imputer',\n",
       "                                                                   SimpleImputer(fill_value='missing',\n",
       "                                                                                 strategy='constant')),\n",
       "                                                                  ('onehot',\n",
       "                                                                   OneHotEncoder(handle_unknown='ignore'))]),\n",
       "                                                  ['CST', 'subCST', 'race',\n",
       "                                                   'age', 'NIH Racial Category',\n",
       "                                                   'NIH Ethnicity Category',\n",
       "                                                   'Kmediods_cluster',\n",
       "                                                   'Kmediods_phylo'])])),\n",
       "                ('clas',\n",
       "                 RandomForestRegressor(bootstrap=False, max_depth=20,\n",
       "                                       max_features='sqrt',\n",
       "                                       n_estimators=1800))])"
      ]
     },
     "execution_count": 33,
     "metadata": {},
     "output_type": "execute_result"
    }
   ],
   "source": [
    "from sklearn.ensemble import RandomForestRegressor\n",
    "from sklearn.model_selection import GridSearchCV\n",
    "\n",
    "term_pipe_RF = Pipeline([('prep', term_trans),\n",
    "                 ('clas', RandomForestRegressor(bootstrap=False, max_depth=20, max_features='sqrt',min_samples_leaf=1, \n",
    "                                                min_samples_split=2,n_estimators=1800))])\n",
    "term_pipe_RF.fit(X_train, y[\"was_preterm\"])\n",
    "        "
   ]
  },
  {
   "cell_type": "code",
   "execution_count": 34,
   "metadata": {},
   "outputs": [],
   "source": [
    "#Save RandomForest model phylo\n",
    "import pickle\n",
    "filename = 'Models/RandomForest_preterm_final.sav'\n",
    "pickle.dump(term_pipe_RF, open(filename, 'wb'))"
   ]
  },
  {
   "cell_type": "markdown",
   "metadata": {},
   "source": [
    "**Early preterm model**"
   ]
  },
  {
   "cell_type": "code",
   "execution_count": 35,
   "metadata": {
    "colab": {
     "base_uri": "https://localhost:8080/"
    },
    "executionInfo": {
     "elapsed": 87755,
     "status": "ok",
     "timestamp": 1659249438269,
     "user": {
      "displayName": "Alonso felipe ruiz",
      "userId": "07344339143251473245"
     },
     "user_tz": -60
    },
    "id": "jFnBCUBNwdRF",
    "outputId": "93a3ac19-4cd3-494e-8e74-1003fd054281"
   },
   "outputs": [
    {
     "data": {
      "text/plain": [
       "Pipeline(steps=[('prep',\n",
       "                 ColumnTransformer(transformers=[('num',\n",
       "                                                  Pipeline(steps=[('scaler',\n",
       "                                                                   StandardScaler())]),\n",
       "                                                  [\"'Geomonas' Khan et al. \"\n",
       "                                                   '2020',\n",
       "                                                   'Abditibacterium',\n",
       "                                                   'Abiotrophia defectiva',\n",
       "                                                   'Absiella',\n",
       "                                                   'Absiella dolichum',\n",
       "                                                   'Abyssicoccus',\n",
       "                                                   'Acetobacter',\n",
       "                                                   'Acetobacter '\n",
       "                                                   'cibinongensis/orientalis',\n",
       "                                                   'Acetobacter persici',\n",
       "                                                   'Acetobacteraceae',\n",
       "                                                   'Acetobacteraceae/Succinivibrion...\n",
       "                                                  Pipeline(steps=[('imputer',\n",
       "                                                                   SimpleImputer(fill_value='missing',\n",
       "                                                                                 strategy='constant')),\n",
       "                                                                  ('onehot',\n",
       "                                                                   OneHotEncoder(handle_unknown='ignore'))]),\n",
       "                                                  ['CST', 'subCST', 'race',\n",
       "                                                   'age', 'NIH Racial Category',\n",
       "                                                   'NIH Ethnicity Category',\n",
       "                                                   'Kmediods_cluster',\n",
       "                                                   'Kmediods_phylo'])])),\n",
       "                ('clas',\n",
       "                 RandomForestRegressor(max_depth=50, max_features='sqrt',\n",
       "                                       min_samples_leaf=2, min_samples_split=5,\n",
       "                                       n_estimators=800))])"
      ]
     },
     "execution_count": 35,
     "metadata": {},
     "output_type": "execute_result"
    }
   ],
   "source": [
    "from sklearn.ensemble import RandomForestRegressor\n",
    "from sklearn.model_selection import GridSearchCV\n",
    "\n",
    "early_term_pipe_RF = Pipeline([('prep', term_trans),\n",
    "                 ('clas', RandomForestRegressor(bootstrap=True, max_depth=50, max_features='sqrt',min_samples_leaf=2, \n",
    "                                                min_samples_split=5,n_estimators=800))])\n",
    "early_term_pipe_RF.fit(X_train, y[\"was_early_preterm\"])\n",
    "        "
   ]
  },
  {
   "cell_type": "code",
   "execution_count": 36,
   "metadata": {},
   "outputs": [],
   "source": [
    "#Save RandomForest model phylo\n",
    "import pickle\n",
    "filename = 'Models/RandomForest_early_preterm_final.sav'\n",
    "pickle.dump(early_term_pipe_RF, open(filename, 'wb'))"
   ]
  }
 ],
 "metadata": {
  "colab": {
   "authorship_tag": "ABX9TyOq1VU9DsIUy6Qr7xV+Gk/c",
   "collapsed_sections": [],
   "mount_file_id": "1BiPT_YKZiBX7g14bcMbpFQd1aktKipck",
   "name": "Untitled0.ipynb",
   "provenance": []
  },
  "kernelspec": {
   "display_name": "Python 3",
   "language": "python",
   "name": "python3"
  },
  "language_info": {
   "codemirror_mode": {
    "name": "ipython",
    "version": 3
   },
   "file_extension": ".py",
   "mimetype": "text/x-python",
   "name": "python",
   "nbconvert_exporter": "python",
   "pygments_lexer": "ipython3",
   "version": "3.8.5"
  }
 },
 "nbformat": 4,
 "nbformat_minor": 4
}
